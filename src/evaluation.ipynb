{
 "cells": [
  {
   "cell_type": "code",
   "execution_count": null,
   "id": "3989968e",
   "metadata": {},
   "outputs": [
    {
     "name": "stdout",
     "output_type": "stream",
     "text": [
      "['C:\\\\Users\\\\carel\\\\AppData\\\\Local\\\\Programs\\\\Python\\\\Python312\\\\python312.zip', 'C:\\\\Users\\\\carel\\\\AppData\\\\Local\\\\Programs\\\\Python\\\\Python312\\\\DLLs', 'C:\\\\Users\\\\carel\\\\AppData\\\\Local\\\\Programs\\\\Python\\\\Python312\\\\Lib', 'C:\\\\Users\\\\carel\\\\AppData\\\\Local\\\\Programs\\\\Python\\\\Python312', 'c:\\\\Users\\\\carel\\\\Dropbox (Politecnico Di Torino Studenti)\\\\PC\\\\Documents\\\\Scuola\\\\Polito\\\\Magistrale\\\\Corsi\\\\Computational Intelligence\\\\Python\\\\CI2024', '', 'c:\\\\Users\\\\carel\\\\Dropbox (Politecnico Di Torino Studenti)\\\\PC\\\\Documents\\\\Scuola\\\\Polito\\\\Magistrale\\\\Corsi\\\\Computational Intelligence\\\\Python\\\\CI2024\\\\Lib\\\\site-packages', 'c:\\\\Users\\\\carel\\\\Dropbox (Politecnico Di Torino Studenti)\\\\PC\\\\Documents\\\\Scuola\\\\Polito\\\\Magistrale\\\\Corsi\\\\Computational Intelligence\\\\Python\\\\CI2024\\\\Lib\\\\site-packages\\\\win32', 'c:\\\\Users\\\\carel\\\\Dropbox (Politecnico Di Torino Studenti)\\\\PC\\\\Documents\\\\Scuola\\\\Polito\\\\Magistrale\\\\Corsi\\\\Computational Intelligence\\\\Python\\\\CI2024\\\\Lib\\\\site-packages\\\\win32\\\\lib', 'c:\\\\Users\\\\carel\\\\Dropbox (Politecnico Di Torino Studenti)\\\\PC\\\\Documents\\\\Scuola\\\\Polito\\\\Magistrale\\\\Corsi\\\\Computational Intelligence\\\\Python\\\\CI2024\\\\Lib\\\\site-packages\\\\Pythonwin', '.\\\\CI2024_project-work\\\\CI2024_project-work', '.\\\\CI2024_project-work\\\\CI2024_project-work']\n"
     ]
    }
   ],
   "source": [
    "import numpy as np\n",
    "import sys\n",
    "\n",
    "# here i have the path to the functions because is simple to use locally - in the final version this line should be removed\n",
    "functions_path = 'c:\\\\Users\\\\carel\\\\Dropbox (Politecnico Di Torino Studenti)\\\\PC\\\\Documents\\\\Scuola\\\\Polito\\\\Magistrale\\\\Corsi\\\\Computational Intelligence\\\\Python\\\\CI2024_project-work\\\\CI2024_project-work'\n",
    "sys.path.append(functions_path)\n",
    "\n",
    "from s333957 import f1, f2, f3, f4, f5, f6, f7, f8\n",
    "functions = [f1, f2, f3, f4, f5, f6, f7, f8]"
   ]
  },
  {
   "cell_type": "code",
   "execution_count": 4,
   "id": "bf7e215b",
   "metadata": {},
   "outputs": [
    {
     "name": "stdout",
     "output_type": "stream",
     "text": [
      "Evaluating problems...\n",
      "MSE: 0.00328155\n"
     ]
    }
   ],
   "source": [
    "print(\"Evaluating problems...\")\n",
    "for n in range(1, 9):\n",
    "    problem = np.load(f'../data/problem_{n}.npz')\n",
    "    x = problem['x']\n",
    "    y = problem['y']\n",
    "    print(f\"MSE: {np.square(y-functions[n-1](x)).sum()/len(y):g}\")\n",
    "    break # dumb solution in f1 to test the import, remove this line after generating all problems' solutions via genetic algorithm"
   ]
  }
 ],
 "metadata": {
  "kernelspec": {
   "display_name": "Python 3",
   "language": "python",
   "name": "python3"
  },
  "language_info": {
   "codemirror_mode": {
    "name": "ipython",
    "version": 3
   },
   "file_extension": ".py",
   "mimetype": "text/x-python",
   "name": "python",
   "nbconvert_exporter": "python",
   "pygments_lexer": "ipython3",
   "version": "3.12.6"
  }
 },
 "nbformat": 4,
 "nbformat_minor": 5
}
