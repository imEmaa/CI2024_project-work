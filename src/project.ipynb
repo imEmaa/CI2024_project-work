{
 "cells": [
  {
   "cell_type": "markdown",
   "id": "954fd73c",
   "metadata": {},
   "source": [
    "# SymReg CI2024 Project"
   ]
  },
  {
   "cell_type": "code",
   "execution_count": null,
   "id": "4473c22f",
   "metadata": {},
   "outputs": [],
   "source": [
    "import numpy as np\n",
    "import random\n",
    "from tqdm import tqdm\n",
    "import matplotlib.pyplot as plt"
   ]
  },
  {
   "cell_type": "code",
   "execution_count": null,
   "id": "478ed216",
   "metadata": {},
   "outputs": [],
   "source": [
    "operators = ['+', '-', '*', '/']\n",
    "functions = ['np.sin', 'np.cos', 'np.exp', 'np.log', 'np.sqrt', 'np.abs']"
   ]
  },
  {
   "cell_type": "markdown",
   "id": "c58b5c43",
   "metadata": {},
   "source": [
    "## Graph structure definition"
   ]
  },
  {
   "cell_type": "code",
   "execution_count": null,
   "id": "bed5d9b2",
   "metadata": {},
   "outputs": [],
   "source": [
    "class Node:\n",
    "    def __init__(self, value, left=None, right=None):\n",
    "        self.value = value\n",
    "        self.left = left\n",
    "        self.right = right\n",
    "\n",
    "    def __str__(self):\n",
    "        if self.left is None and self.right is None:\n",
    "            return str(self.value)\n",
    "        if self.left is None: # unary operator ( like sin, cos )\n",
    "            return f\"{self.value}({self.right})\"\n",
    "        left_str = str(self.left)\n",
    "        right_str = str(self.right)\n",
    "        return f\"({left_str} {self.value} {right_str})\" # binary operator ( like sum )\n",
    "    \n",
    "    def is_operator(self):\n",
    "        return self.value in operators\n",
    "    \n",
    "    def is_function(self):\n",
    "        return self.value in functions\n",
    "    \n",
    "    def is_leaf(self):\n",
    "        return not self.is_operator() and not self.is_function()\n",
    "    \n",
    "    def copy(self):\n",
    "        return Node(self.value, self.left.copy() if self.left else None, self.right.copy() if self.right else None)\n",
    "    \n",
    "    def depth(self):\n",
    "        # if node is a leaf, depth is 0; elsem depth is 1 + max depth of left/right children\n",
    "        if self.is_leaf():\n",
    "            return 0\n",
    "        left_depth = self.left.depth() if self.left else 0\n",
    "        right_depth = self.right.depth() if self.right else 0\n",
    "        return 1 + max(left_depth, right_depth)\n",
    "    \n",
    "    def evaluate(self, variable_values):\n",
    "        # operators\n",
    "        if self.is_operator():\n",
    "            left_value = self.left.evaluate(variable_values) if self.left else None\n",
    "            right_value = self.right.evaluate(variable_values) if self.right else None\n",
    "            if self.value == '+':\n",
    "                return left_value + right_value\n",
    "            elif self.value == '-':\n",
    "                return left_value - right_value\n",
    "            elif self.value == '*':\n",
    "                return left_value * right_value\n",
    "            elif self.value == '/':\n",
    "                return left_value / right_value if right_value != 0 else np.inf\n",
    "        # functions\n",
    "        elif self.is_function():\n",
    "            value = self.right.evaluate(variable_values) if self.right else None\n",
    "            if self.value == 'np.sin':\n",
    "                return np.sin(value)\n",
    "            elif self.value == 'np.cos':\n",
    "                return np.cos(value)\n",
    "            elif self.value == 'np.exp':\n",
    "                return np.exp(value)\n",
    "            elif self.value == 'np.log':\n",
    "                return np.log(value) if value > 0 else -np.inf\n",
    "            elif self.value == 'np.sqrt':\n",
    "                return np.sqrt(value) if value >= 0 else -np.inf\n",
    "            elif self.value == 'np.abs':\n",
    "                return np.abs(value)\n",
    "            \n",
    "        elif self.value.startswith('x'):\n",
    "            # variable node like x[1], x[2], etc.\n",
    "            index = int(self.value[2:-1])  # extract the index from 'x[1]', 'x[2]', etc.\n",
    "            return variable_values[f\"x{index}\"]\n",
    "        \n",
    "        else:\n",
    "            # costant node\n",
    "            try:\n",
    "                return float(self.value)\n",
    "            except ValueError:\n",
    "                raise ValueError(f\"Invalid value: {self.value}\")"
   ]
  },
  {
   "cell_type": "markdown",
   "id": "ba700640",
   "metadata": {},
   "source": [
    "## Genetic Algorithm"
   ]
  },
  {
   "cell_type": "markdown",
   "id": "736d9141",
   "metadata": {},
   "source": [
    "### Genetic Algorithm functions"
   ]
  },
  {
   "cell_type": "code",
   "execution_count": null,
   "id": "3d88aaf9",
   "metadata": {},
   "outputs": [],
   "source": [
    "def generate_formula(depth, n_var):\n",
    "    \n",
    "    if depth == 0:\n",
    "        # return a leaf node, which can be a variable or a constant ( 50% chance for each )\n",
    "        if random.random() < 0.5:\n",
    "            # return a variable node like x[1], x[2], etc.\n",
    "            index = random.randint(1, n_var)\n",
    "            return Node(f\"x{index}\")\n",
    "        else:\n",
    "            # return a constant node with a random value between -10 and 10 rounded to 3 decimal\n",
    "            return Node(str(round(random.uniform(-10, 10), 3)))\n",
    "        \n",
    "    # choose an operator ( binary ) or function ( unary ) randomly ( again, 50% chance for each )\n",
    "    if random.random() < 0.5:\n",
    "        operator = random.choice(operators)\n",
    "        left = generate_formula(depth - 1, n_var)\n",
    "        right = generate_formula(depth - 1, n_var)\n",
    "        return Node(operator, left, right)\n",
    "    else:\n",
    "        func = random.choice(functions)\n",
    "        right = generate_formula(depth - 1, n_var)\n",
    "        return Node(func, right = right)  # function nodes have only one child\n",
    "    \n",
    "def generate_population(x, population_size=250):\n",
    "    n_var = x.shape[0]\n",
    "    population = []\n",
    "    for _ in range(population_size):\n",
    "        depth = random.randint(n_var, 2 * n_var)\n",
    "        formula = generate_formula(depth, n_var)\n",
    "        population.append(formula)\n",
    "    return population"
   ]
  }
 ],
 "metadata": {
  "kernelspec": {
   "display_name": "CI2024",
   "language": "python",
   "name": "python3"
  },
  "language_info": {
   "codemirror_mode": {
    "name": "ipython",
    "version": 3
   },
   "file_extension": ".py",
   "mimetype": "text/x-python",
   "name": "python",
   "nbconvert_exporter": "python",
   "pygments_lexer": "ipython3",
   "version": "3.12.6"
  }
 },
 "nbformat": 4,
 "nbformat_minor": 5
}
