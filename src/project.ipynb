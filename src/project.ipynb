{
 "cells": [
  {
   "cell_type": "markdown",
   "id": "954fd73c",
   "metadata": {},
   "source": [
    "# SymReg CI2024 Project"
   ]
  },
  {
   "cell_type": "markdown",
   "id": "82a46d7e",
   "metadata": {},
   "source": []
  }
 ],
 "metadata": {
  "kernelspec": {
   "display_name": "CI2024",
   "language": "python",
   "name": "python3"
  },
  "language_info": {
   "name": "python",
   "version": "3.12.6"
  }
 },
 "nbformat": 4,
 "nbformat_minor": 5
}
